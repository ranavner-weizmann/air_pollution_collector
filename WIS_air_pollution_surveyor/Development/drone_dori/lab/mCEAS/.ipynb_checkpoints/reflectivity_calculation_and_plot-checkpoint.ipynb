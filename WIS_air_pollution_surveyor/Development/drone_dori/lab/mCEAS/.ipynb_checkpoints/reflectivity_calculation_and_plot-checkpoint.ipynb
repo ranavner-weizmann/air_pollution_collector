{
 "cells": [
  {
   "cell_type": "code",
   "execution_count": 1,
   "id": "219c167f",
   "metadata": {},
   "outputs": [],
   "source": [
    "import numpy as np\n",
    "import pandas as pd\n",
    "import math\n",
    "import matplotlib.pyplot as plt\n",
    "from seabreeze.spectrometers import Spectrometer as Spec\n",
    "from datetime import datetime\n",
    "import csv\n",
    "import logging\n",
    "import epics\n",
    "import yaml\n",
    "import sys\n",
    "sys.path.insert(0, '../../mCEAS/')\n",
    "from calculation_functions import *\n",
    "from MCEAS import *\n"
   ]
  },
  {
   "cell_type": "code",
   "execution_count": 36,
   "id": "6c81eddf",
   "metadata": {},
   "outputs": [],
   "source": [
    "with open('../../mCEAS/config/config_mCEAS_lab.yaml') as file: \n",
    "    config_data = yaml.load(file, Loader=yaml.FullLoader)\n",
    "\n",
    "c = config_data[\"mCEAS\"]"
   ]
  },
  {
   "cell_type": "code",
   "execution_count": 37,
   "id": "e0386421",
   "metadata": {},
   "outputs": [],
   "source": [
    "def init_mCEAS_from_config():\n",
    "    mCEAS = MCEAS(arduino_port=c[\"arduino_port\"],update_rate=c[\"update_rate\"],is_demo_mode=c[\"is_demo_mode\"],\n",
    "                  default_log_dir=c[\"default_log_dir\"],measured_gases_and_sigma_filenames=c[\"measured_gases_and_sigma_filenames\"],\n",
    "                  atmospheric_gases_and_sigma_filenames=c[\"atmospheric_gases_and_sigma_filenames\"],d_full=c[\"d_full\"],\n",
    "                  d_purging=[\"d_purging\"], R_filename=c[\"reflectivity_filename\"], R_wavelengths_filename=c[\"reflectivity_wavelengths_filename\"],\n",
    "                  I0=c[\"I0_filename\"],T0=c[\"T0\"],P0=c[\"P0\"],I0_NO2=c[\"I0_NO2\"],\n",
    "                  name_PV=c[\"name_PV\"],spectrometer_name_PV=config_data[\"spectrometer\"][\"name_PV\"],\n",
    "                  measurement_gases=c[\"measurement_gases\"],arduino_params=c[\"arduino_params\"],to_log=c[\"to_log\"],log_filename=c[\"log_filename\"])\n",
    "    return mCEAS"
   ]
  },
  {
   "cell_type": "code",
   "execution_count": 38,
   "id": "934a7ae7",
   "metadata": {},
   "outputs": [
    {
     "ename": "FileNotFoundError",
     "evalue": "[Errno 2] No such file or directory: 'config/NO2_QEP033721__0__18-22-35-729.txt'",
     "output_type": "error",
     "traceback": [
      "\u001b[0;31m---------------------------------------------------------------------------\u001b[0m",
      "\u001b[0;31mFileNotFoundError\u001b[0m                         Traceback (most recent call last)",
      "Input \u001b[0;32mIn [38]\u001b[0m, in \u001b[0;36m<cell line: 1>\u001b[0;34m()\u001b[0m\n\u001b[0;32m----> 1\u001b[0m mCEAS \u001b[38;5;241m=\u001b[39m  \u001b[43minit_mCEAS_from_config\u001b[49m\u001b[43m(\u001b[49m\u001b[43m)\u001b[49m\n",
      "Input \u001b[0;32mIn [37]\u001b[0m, in \u001b[0;36minit_mCEAS_from_config\u001b[0;34m()\u001b[0m\n\u001b[1;32m      1\u001b[0m \u001b[38;5;28;01mdef\u001b[39;00m \u001b[38;5;21minit_mCEAS_from_config\u001b[39m():\n\u001b[0;32m----> 2\u001b[0m     mCEAS \u001b[38;5;241m=\u001b[39m \u001b[43mMCEAS\u001b[49m\u001b[43m(\u001b[49m\u001b[43marduino_port\u001b[49m\u001b[38;5;241;43m=\u001b[39;49m\u001b[43mc\u001b[49m\u001b[43m[\u001b[49m\u001b[38;5;124;43m\"\u001b[39;49m\u001b[38;5;124;43marduino_port\u001b[39;49m\u001b[38;5;124;43m\"\u001b[39;49m\u001b[43m]\u001b[49m\u001b[43m,\u001b[49m\u001b[43mupdate_rate\u001b[49m\u001b[38;5;241;43m=\u001b[39;49m\u001b[43mc\u001b[49m\u001b[43m[\u001b[49m\u001b[38;5;124;43m\"\u001b[39;49m\u001b[38;5;124;43mupdate_rate\u001b[39;49m\u001b[38;5;124;43m\"\u001b[39;49m\u001b[43m]\u001b[49m\u001b[43m,\u001b[49m\u001b[43mis_demo_mode\u001b[49m\u001b[38;5;241;43m=\u001b[39;49m\u001b[43mc\u001b[49m\u001b[43m[\u001b[49m\u001b[38;5;124;43m\"\u001b[39;49m\u001b[38;5;124;43mis_demo_mode\u001b[39;49m\u001b[38;5;124;43m\"\u001b[39;49m\u001b[43m]\u001b[49m\u001b[43m,\u001b[49m\n\u001b[1;32m      3\u001b[0m \u001b[43m                  \u001b[49m\u001b[43mdefault_log_dir\u001b[49m\u001b[38;5;241;43m=\u001b[39;49m\u001b[43mc\u001b[49m\u001b[43m[\u001b[49m\u001b[38;5;124;43m\"\u001b[39;49m\u001b[38;5;124;43mdefault_log_dir\u001b[39;49m\u001b[38;5;124;43m\"\u001b[39;49m\u001b[43m]\u001b[49m\u001b[43m,\u001b[49m\u001b[43mmeasured_gases_and_sigma_filenames\u001b[49m\u001b[38;5;241;43m=\u001b[39;49m\u001b[43mc\u001b[49m\u001b[43m[\u001b[49m\u001b[38;5;124;43m\"\u001b[39;49m\u001b[38;5;124;43mmeasured_gases_and_sigma_filenames\u001b[39;49m\u001b[38;5;124;43m\"\u001b[39;49m\u001b[43m]\u001b[49m\u001b[43m,\u001b[49m\n\u001b[1;32m      4\u001b[0m \u001b[43m                  \u001b[49m\u001b[43matmospheric_gases_and_sigma_filenames\u001b[49m\u001b[38;5;241;43m=\u001b[39;49m\u001b[43mc\u001b[49m\u001b[43m[\u001b[49m\u001b[38;5;124;43m\"\u001b[39;49m\u001b[38;5;124;43matmospheric_gases_and_sigma_filenames\u001b[39;49m\u001b[38;5;124;43m\"\u001b[39;49m\u001b[43m]\u001b[49m\u001b[43m,\u001b[49m\u001b[43md_full\u001b[49m\u001b[38;5;241;43m=\u001b[39;49m\u001b[43mc\u001b[49m\u001b[43m[\u001b[49m\u001b[38;5;124;43m\"\u001b[39;49m\u001b[38;5;124;43md_full\u001b[39;49m\u001b[38;5;124;43m\"\u001b[39;49m\u001b[43m]\u001b[49m\u001b[43m,\u001b[49m\n\u001b[1;32m      5\u001b[0m \u001b[43m                  \u001b[49m\u001b[43md_purging\u001b[49m\u001b[38;5;241;43m=\u001b[39;49m\u001b[43m[\u001b[49m\u001b[38;5;124;43m\"\u001b[39;49m\u001b[38;5;124;43md_purging\u001b[39;49m\u001b[38;5;124;43m\"\u001b[39;49m\u001b[43m]\u001b[49m\u001b[43m,\u001b[49m\u001b[43m \u001b[49m\u001b[43mR_filename\u001b[49m\u001b[38;5;241;43m=\u001b[39;49m\u001b[43mc\u001b[49m\u001b[43m[\u001b[49m\u001b[38;5;124;43m\"\u001b[39;49m\u001b[38;5;124;43mreflectivity_filename\u001b[39;49m\u001b[38;5;124;43m\"\u001b[39;49m\u001b[43m]\u001b[49m\u001b[43m,\u001b[49m\u001b[43m \u001b[49m\u001b[43mR_wavelengths_filename\u001b[49m\u001b[38;5;241;43m=\u001b[39;49m\u001b[43mc\u001b[49m\u001b[43m[\u001b[49m\u001b[38;5;124;43m\"\u001b[39;49m\u001b[38;5;124;43mreflectivity_wavelengths_filename\u001b[39;49m\u001b[38;5;124;43m\"\u001b[39;49m\u001b[43m]\u001b[49m\u001b[43m,\u001b[49m\n\u001b[1;32m      6\u001b[0m \u001b[43m                  \u001b[49m\u001b[43mI0\u001b[49m\u001b[38;5;241;43m=\u001b[39;49m\u001b[43mc\u001b[49m\u001b[43m[\u001b[49m\u001b[38;5;124;43m\"\u001b[39;49m\u001b[38;5;124;43mI0_filename\u001b[39;49m\u001b[38;5;124;43m\"\u001b[39;49m\u001b[43m]\u001b[49m\u001b[43m,\u001b[49m\u001b[43mT0\u001b[49m\u001b[38;5;241;43m=\u001b[39;49m\u001b[43mc\u001b[49m\u001b[43m[\u001b[49m\u001b[38;5;124;43m\"\u001b[39;49m\u001b[38;5;124;43mT0\u001b[39;49m\u001b[38;5;124;43m\"\u001b[39;49m\u001b[43m]\u001b[49m\u001b[43m,\u001b[49m\u001b[43mP0\u001b[49m\u001b[38;5;241;43m=\u001b[39;49m\u001b[43mc\u001b[49m\u001b[43m[\u001b[49m\u001b[38;5;124;43m\"\u001b[39;49m\u001b[38;5;124;43mP0\u001b[39;49m\u001b[38;5;124;43m\"\u001b[39;49m\u001b[43m]\u001b[49m\u001b[43m,\u001b[49m\u001b[43mI0_NO2\u001b[49m\u001b[38;5;241;43m=\u001b[39;49m\u001b[43mc\u001b[49m\u001b[43m[\u001b[49m\u001b[38;5;124;43m\"\u001b[39;49m\u001b[38;5;124;43mI0_NO2\u001b[39;49m\u001b[38;5;124;43m\"\u001b[39;49m\u001b[43m]\u001b[49m\u001b[43m,\u001b[49m\n\u001b[1;32m      7\u001b[0m \u001b[43m                  \u001b[49m\u001b[43mname_PV\u001b[49m\u001b[38;5;241;43m=\u001b[39;49m\u001b[43mc\u001b[49m\u001b[43m[\u001b[49m\u001b[38;5;124;43m\"\u001b[39;49m\u001b[38;5;124;43mname_PV\u001b[39;49m\u001b[38;5;124;43m\"\u001b[39;49m\u001b[43m]\u001b[49m\u001b[43m,\u001b[49m\u001b[43mspectrometer_name_PV\u001b[49m\u001b[38;5;241;43m=\u001b[39;49m\u001b[43mconfig_data\u001b[49m\u001b[43m[\u001b[49m\u001b[38;5;124;43m\"\u001b[39;49m\u001b[38;5;124;43mspectrometer\u001b[39;49m\u001b[38;5;124;43m\"\u001b[39;49m\u001b[43m]\u001b[49m\u001b[43m[\u001b[49m\u001b[38;5;124;43m\"\u001b[39;49m\u001b[38;5;124;43mname_PV\u001b[39;49m\u001b[38;5;124;43m\"\u001b[39;49m\u001b[43m]\u001b[49m\u001b[43m,\u001b[49m\n\u001b[1;32m      8\u001b[0m \u001b[43m                  \u001b[49m\u001b[43mmeasurement_gases\u001b[49m\u001b[38;5;241;43m=\u001b[39;49m\u001b[43mc\u001b[49m\u001b[43m[\u001b[49m\u001b[38;5;124;43m\"\u001b[39;49m\u001b[38;5;124;43mmeasurement_gases\u001b[39;49m\u001b[38;5;124;43m\"\u001b[39;49m\u001b[43m]\u001b[49m\u001b[43m,\u001b[49m\u001b[43marduino_params\u001b[49m\u001b[38;5;241;43m=\u001b[39;49m\u001b[43mc\u001b[49m\u001b[43m[\u001b[49m\u001b[38;5;124;43m\"\u001b[39;49m\u001b[38;5;124;43marduino_params\u001b[39;49m\u001b[38;5;124;43m\"\u001b[39;49m\u001b[43m]\u001b[49m\u001b[43m,\u001b[49m\u001b[43mto_log\u001b[49m\u001b[38;5;241;43m=\u001b[39;49m\u001b[43mc\u001b[49m\u001b[43m[\u001b[49m\u001b[38;5;124;43m\"\u001b[39;49m\u001b[38;5;124;43mto_log\u001b[39;49m\u001b[38;5;124;43m\"\u001b[39;49m\u001b[43m]\u001b[49m\u001b[43m,\u001b[49m\u001b[43mlog_filename\u001b[49m\u001b[38;5;241;43m=\u001b[39;49m\u001b[43mc\u001b[49m\u001b[43m[\u001b[49m\u001b[38;5;124;43m\"\u001b[39;49m\u001b[38;5;124;43mlog_filename\u001b[39;49m\u001b[38;5;124;43m\"\u001b[39;49m\u001b[43m]\u001b[49m\u001b[43m)\u001b[49m\n\u001b[1;32m      9\u001b[0m     \u001b[38;5;28;01mreturn\u001b[39;00m mCEAS\n",
      "File \u001b[0;32m~/w/projects/WIS_air_pollution_surveyor/Development/drone_dori/lab/mCEAS/../../mCEAS/MCEAS.py:41\u001b[0m, in \u001b[0;36mMCEAS.__init__\u001b[0;34m(self, arduino_port, update_rate, is_demo_mode, default_log_dir, measured_gases_and_sigma_filenames, atmospheric_gases_and_sigma_filenames, d_full, d_purging, R_filename, R_wavelengths_filename, I0, T0, P0, I0_NO2, name_PV, spectrometer_name_PV, measurement_gases, arduino_params, to_log, log_filename)\u001b[0m\n\u001b[1;32m     39\u001b[0m \u001b[38;5;28mself\u001b[39m\u001b[38;5;241m.\u001b[39mI0_NO2 \u001b[38;5;241m=\u001b[39m I0_NO2\n\u001b[1;32m     40\u001b[0m \u001b[38;5;28mself\u001b[39m\u001b[38;5;241m.\u001b[39mcurrent_arduino_data \u001b[38;5;241m=\u001b[39m {}\n\u001b[0;32m---> 41\u001b[0m \u001b[38;5;28;43mself\u001b[39;49m\u001b[38;5;241;43m.\u001b[39;49m\u001b[43minit_wavelengths_and_I0\u001b[49m\u001b[43m(\u001b[49m\u001b[43m)\u001b[49m\n\u001b[1;32m     42\u001b[0m \u001b[38;5;28mself\u001b[39m\u001b[38;5;241m.\u001b[39minit_sigmas()\n\u001b[1;32m     43\u001b[0m \u001b[38;5;28mself\u001b[39m\u001b[38;5;241m.\u001b[39mname_PV \u001b[38;5;241m=\u001b[39m name_PV\n",
      "File \u001b[0;32m~/w/projects/WIS_air_pollution_surveyor/Development/drone_dori/lab/mCEAS/../../mCEAS/MCEAS.py:73\u001b[0m, in \u001b[0;36mMCEAS.init_wavelengths_and_I0\u001b[0;34m(self)\u001b[0m\n\u001b[1;32m     71\u001b[0m \u001b[38;5;28;01mdef\u001b[39;00m \u001b[38;5;21minit_wavelengths_and_I0\u001b[39m(\u001b[38;5;28mself\u001b[39m):\n\u001b[1;32m     72\u001b[0m     \u001b[38;5;66;03m# TODO: create an easy way to measure I0 without the csv file (using I_PV) - check type of file before loading\u001b[39;00m\n\u001b[0;32m---> 73\u001b[0m     \u001b[38;5;28mself\u001b[39m\u001b[38;5;241m.\u001b[39mwavelengths,\u001b[38;5;28mself\u001b[39m\u001b[38;5;241m.\u001b[39mI0 \u001b[38;5;241m=\u001b[39m \u001b[43mload_wavelengths_and_average_I_from_spectrometer_csv\u001b[49m\u001b[43m(\u001b[49m\u001b[38;5;28;43mself\u001b[39;49m\u001b[38;5;241;43m.\u001b[39;49m\u001b[43mI0_filename\u001b[49m\u001b[43m)\u001b[49m\n",
      "File \u001b[0;32m~/w/projects/WIS_air_pollution_surveyor/Development/drone_dori/lab/mCEAS/../../mCEAS/calculation_functions.py:19\u001b[0m, in \u001b[0;36mload_wavelengths_and_average_I_from_spectrometer_csv\u001b[0;34m(filename, sep, data_begin_str)\u001b[0m\n\u001b[1;32m     17\u001b[0m     I \u001b[38;5;241m=\u001b[39m I[I\u001b[38;5;241m.\u001b[39mindex(sep)\u001b[38;5;241m+\u001b[39m\u001b[38;5;241m2\u001b[39m:]\n\u001b[1;32m     18\u001b[0m     \u001b[38;5;28;01mreturn\u001b[39;00m np\u001b[38;5;241m.\u001b[39mfromstring(I, sep\u001b[38;5;241m=\u001b[39m\u001b[38;5;124m\"\u001b[39m\u001b[38;5;130;01m\\t\u001b[39;00m\u001b[38;5;124m\"\u001b[39m)\n\u001b[0;32m---> 19\u001b[0m file \u001b[38;5;241m=\u001b[39m \u001b[38;5;28;43mopen\u001b[39;49m\u001b[43m(\u001b[49m\u001b[43mfilename\u001b[49m\u001b[43m,\u001b[49m\u001b[43m \u001b[49m\u001b[38;5;124;43m'\u001b[39;49m\u001b[38;5;124;43mr\u001b[39;49m\u001b[38;5;124;43m'\u001b[39;49m\u001b[43m)\u001b[49m\n\u001b[1;32m     20\u001b[0m I_list \u001b[38;5;241m=\u001b[39m \u001b[38;5;28mlist\u001b[39m(csv\u001b[38;5;241m.\u001b[39mreader(file))\n\u001b[1;32m     21\u001b[0m data_i,wavelengths_i \u001b[38;5;241m=\u001b[39m find_idxs_in_csv(I_list,data_begin_str\u001b[38;5;241m=\u001b[39mdata_begin_str)\n",
      "\u001b[0;31mFileNotFoundError\u001b[0m: [Errno 2] No such file or directory: 'config/NO2_QEP033721__0__18-22-35-729.txt'"
     ]
    }
   ],
   "source": [
    "mCEAS =  init_mCEAS_from_config()"
   ]
  },
  {
   "cell_type": "code",
   "execution_count": null,
   "id": "6e759bc8",
   "metadata": {},
   "outputs": [],
   "source": []
  }
 ],
 "metadata": {
  "kernelspec": {
   "display_name": "Python 3 (ipykernel)",
   "language": "python",
   "name": "python3"
  },
  "language_info": {
   "codemirror_mode": {
    "name": "ipython",
    "version": 3
   },
   "file_extension": ".py",
   "mimetype": "text/x-python",
   "name": "python",
   "nbconvert_exporter": "python",
   "pygments_lexer": "ipython3",
   "version": "3.10.9"
  }
 },
 "nbformat": 4,
 "nbformat_minor": 5
}
